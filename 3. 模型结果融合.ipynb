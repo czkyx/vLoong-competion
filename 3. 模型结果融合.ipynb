{
 "cells": [
  {
   "cell_type": "code",
   "execution_count": 1,
   "metadata": {},
   "outputs": [
    {
     "name": "stderr",
     "output_type": "stream",
     "text": [
      "d:\\learn\\Anaconda3\\lib\\site-packages\\numpy\\_distributor_init.py:32: UserWarning: loaded more than 1 DLL from .libs:\n",
      "d:\\learn\\Anaconda3\\lib\\site-packages\\numpy\\.libs\\libopenblas.WCDJNK7YVMPZQ2ME2ZZHJJRJ3JIKNDB7.gfortran-win_amd64.dll\n",
      "d:\\learn\\Anaconda3\\lib\\site-packages\\numpy\\.libs\\libopenblas.XWYDX2IKJW2NMTWSFYNGFUWKQU3LYTCZ.gfortran-win_amd64.dll\n",
      "  stacklevel=1)\n"
     ]
    }
   ],
   "source": [
    "#!/usr/bin/env python\n",
    "# coding: utf-8\n",
    "\n",
    "# In[1]:\n",
    "\n",
    "\n",
    "import os\n",
    "import csv\n",
    "import pandas as pd\n",
    "def all_csv(file_PATH = r'./result',save_file=\"融合.csv\"):\n",
    "    df_list = [] #创建新列表用来存储提取出来的列表\n",
    "    tqdm=os.listdir(file_PATH)#文件夹中的文件列表\n",
    "    for i in range(0,len(tqdm)):#逐次遍历文件夹下的文件\n",
    "        files_path = os.path.join(file_PATH,tqdm[i])#对应文件夹下的某份文件\n",
    "        df = pd.read_csv(files_path)##读取CSV文件数据\n",
    "        #这里实现提取第一份数据的x与y轴数据，其他文件只提取y轴数据\n",
    "        if i ==0:\n",
    "            data = df.iloc[:,:]#选取文件中某行某列数据\n",
    "        else:\n",
    "            data['score'] = (data['score']+data['score'])/(i+1)\n",
    "        #df_list.append(data)#将选取的数据添加到列表\n",
    "    #df2 = pd.concat(df_list,axis=1)#将列表数据按列合并，axis=1表示按列整合\n",
    "    save_path=os.path.join(file_PATH,save_file)#定义保存存放整合后数据的路径\n",
    "    data.to_csv(save_path,index=False)#将整合好的数据输入到新建的csv文件中\n",
    "\n",
    "\n",
    "\n",
    "if __name__ == \"__main__\":\n",
    "    all_csv(file_PATH = r'./result',save_file=\"融合.csv\")"
   ]
  },
  {
   "cell_type": "code",
   "execution_count": null,
   "metadata": {},
   "outputs": [],
   "source": []
  },
  {
   "cell_type": "markdown",
   "metadata": {},
   "source": [
    "0.8639 : result_best*0.9+result_a*0.1\n",
    "0.864 : result_best*0.8+result_a*0.2\n",
    "0.864: result_best*0.75+result_a*0.25\n",
    "# 0.8641 : result_best*0.7+result_a*0.3\n",
    "0.8641: result_best*0.65+result_a*0.35\n",
    "0.8641: result_best*0.6+result_a*0.4 \n"
   ]
  },
  {
   "cell_type": "code",
   "execution_count": 7,
   "metadata": {},
   "outputs": [],
   "source": [
    "result_best = pd.read_csv('result/result_automl_mljar(0.8637).csv')['score']\n",
    "result_a = pd.read_csv('result/融合.csv')['score']\n",
    "result_last = result_best*0.6+result_a*0.4\n",
    "result = pd.read_csv('result/result_automl_mljar(0.8637).csv')\n",
    "result['score']=result_last\n",
    "result.to_csv('result/融合last(0.6,0.4).csv',index=None)\n"
   ]
  },
  {
   "cell_type": "code",
   "execution_count": 8,
   "metadata": {},
   "outputs": [],
   "source": [
    "# 0.864\n",
    "result_b = pd.read_csv('result/result_automl_mljar_allFeature_1(0.8527).csv')['score']\n",
    "result_last = result_best*0.8+result_a*0.2\n",
    "result = pd.read_csv('result/result_automl_mljar(0.8637).csv')\n",
    "result['score']=result_last\n",
    "result.to_csv('result/融合last(0.8637-0.8,0.8527-0.2).csv',index=None)"
   ]
  }
 ],
 "metadata": {
  "kernelspec": {
   "display_name": "Python 3.7.10 ('base')",
   "language": "python",
   "name": "python3"
  },
  "language_info": {
   "codemirror_mode": {
    "name": "ipython",
    "version": 3
   },
   "file_extension": ".py",
   "mimetype": "text/x-python",
   "name": "python",
   "nbconvert_exporter": "python",
   "pygments_lexer": "ipython3",
   "version": "3.7.10"
  },
  "orig_nbformat": 4,
  "vscode": {
   "interpreter": {
    "hash": "46c08a3667b030e417b9d57af9ce0100a78621087f2eb12a7c84e98cd5b319bd"
   }
  }
 },
 "nbformat": 4,
 "nbformat_minor": 2
}
